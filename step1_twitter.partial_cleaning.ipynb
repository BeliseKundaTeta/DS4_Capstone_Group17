{
 "cells": [
  {
   "cell_type": "markdown",
   "id": "d0d86728",
   "metadata": {},
   "source": [
    "pip install tweepy, \n",
    "pip install emoji,\n",
    "pip install openpyxl,\n",
    "pip install nltk"
   ]
  },
  {
   "cell_type": "code",
   "execution_count": 159,
   "id": "458f00f5",
   "metadata": {},
   "outputs": [],
   "source": [
    "import os\n",
    "import configparser\n",
    "import tweepy as tw\n",
    "import pandas as pd\n",
    "import re\n",
    "import emoji\n",
    "import nltk\n",
    "import openpyxl"
   ]
  },
  {
   "cell_type": "code",
   "execution_count": 160,
   "id": "824dfb42",
   "metadata": {},
   "outputs": [
    {
     "name": "stderr",
     "output_type": "stream",
     "text": [
      "[nltk_data] Downloading package words to /home/jovyan/nltk_data...\n",
      "[nltk_data]   Package words is already up-to-date!\n"
     ]
    }
   ],
   "source": [
    "nltk.download('words')\n",
    "words = set(nltk.corpus.words.words())"
   ]
  },
  {
   "cell_type": "code",
   "execution_count": 161,
   "id": "858312f7",
   "metadata": {},
   "outputs": [
    {
     "name": "stdout",
     "output_type": "stream",
     "text": [
      "(5000, 7)\n"
     ]
    },
    {
     "data": {
      "text/html": [
       "<div>\n",
       "<style scoped>\n",
       "    .dataframe tbody tr th:only-of-type {\n",
       "        vertical-align: middle;\n",
       "    }\n",
       "\n",
       "    .dataframe tbody tr th {\n",
       "        vertical-align: top;\n",
       "    }\n",
       "\n",
       "    .dataframe thead th {\n",
       "        text-align: right;\n",
       "    }\n",
       "</style>\n",
       "<table border=\"1\" class=\"dataframe\">\n",
       "  <thead>\n",
       "    <tr style=\"text-align: right;\">\n",
       "      <th></th>\n",
       "      <th>Tweet ID</th>\n",
       "      <th>User ID</th>\n",
       "      <th>Tweet Text</th>\n",
       "      <th>Username</th>\n",
       "      <th>User Handle</th>\n",
       "      <th>User Location</th>\n",
       "      <th>User Bio</th>\n",
       "    </tr>\n",
       "  </thead>\n",
       "  <tbody>\n",
       "    <tr>\n",
       "      <th>0</th>\n",
       "      <td>1.471387e+18</td>\n",
       "      <td>3.436262e+08</td>\n",
       "      <td>Marcus Aurelius gave a decree 📜 that nobody ca...</td>\n",
       "      <td>Marío</td>\n",
       "      <td>falconfiend2</td>\n",
       "      <td>USA</td>\n",
       "      <td>#TrueToAtlanta...ATL Braves 21 🏆 ATLUTD⭐️ ...2...</td>\n",
       "    </tr>\n",
       "    <tr>\n",
       "      <th>1</th>\n",
       "      <td>1.471387e+18</td>\n",
       "      <td>1.184615e+18</td>\n",
       "      <td>I wanna hold them 🙋‍♂️😍😍😍</td>\n",
       "      <td>Michael (true name: Clay Cowan)</td>\n",
       "      <td>mikeythedarklo1</td>\n",
       "      <td>Cleveland, OH</td>\n",
       "      <td>I'm a nerdy guy who loves art, music, wrestlin...</td>\n",
       "    </tr>\n",
       "    <tr>\n",
       "      <th>2</th>\n",
       "      <td>1.471387e+18</td>\n",
       "      <td>1.285185e+18</td>\n",
       "      <td>@Wickedgoodguy @Myminimine @DanielTurnerPTF @H...</td>\n",
       "      <td>Russell Daniels</td>\n",
       "      <td>Russell97479980</td>\n",
       "      <td>NaN</td>\n",
       "      <td>Professionally employed as a machinist manufac...</td>\n",
       "    </tr>\n",
       "    <tr>\n",
       "      <th>3</th>\n",
       "      <td>1.471387e+18</td>\n",
       "      <td>9.530522e+17</td>\n",
       "      <td>Unsolved Mysteries: Do Any Republicans Know Wh...</td>\n",
       "      <td>N. Close</td>\n",
       "      <td>NClose13</td>\n",
       "      <td>NaN</td>\n",
       "      <td>Wear a mask, understanding facts vs lies, be p...</td>\n",
       "    </tr>\n",
       "    <tr>\n",
       "      <th>4</th>\n",
       "      <td>1.471387e+18</td>\n",
       "      <td>1.439624e+18</td>\n",
       "      <td>Listening to Wow. by Post Malone on @PandoraMu...</td>\n",
       "      <td>Nicole Tenaya Shivers</td>\n",
       "      <td>NicoleShivers22</td>\n",
       "      <td>Harrisburg Pa</td>\n",
       "      <td>No worries Lil Ms Sunshine cause I don't mess ...</td>\n",
       "    </tr>\n",
       "  </tbody>\n",
       "</table>\n",
       "</div>"
      ],
      "text/plain": [
       "       Tweet ID       User ID  \\\n",
       "0  1.471387e+18  3.436262e+08   \n",
       "1  1.471387e+18  1.184615e+18   \n",
       "2  1.471387e+18  1.285185e+18   \n",
       "3  1.471387e+18  9.530522e+17   \n",
       "4  1.471387e+18  1.439624e+18   \n",
       "\n",
       "                                          Tweet Text  \\\n",
       "0  Marcus Aurelius gave a decree 📜 that nobody ca...   \n",
       "1                          I wanna hold them 🙋‍♂️😍😍😍   \n",
       "2  @Wickedgoodguy @Myminimine @DanielTurnerPTF @H...   \n",
       "3  Unsolved Mysteries: Do Any Republicans Know Wh...   \n",
       "4  Listening to Wow. by Post Malone on @PandoraMu...   \n",
       "\n",
       "                          Username      User Handle  User Location  \\\n",
       "0                            Marío     falconfiend2            USA   \n",
       "1  Michael (true name: Clay Cowan)  mikeythedarklo1  Cleveland, OH   \n",
       "2                  Russell Daniels  Russell97479980            NaN   \n",
       "3                         N. Close         NClose13            NaN   \n",
       "4            Nicole Tenaya Shivers  NicoleShivers22  Harrisburg Pa   \n",
       "\n",
       "                                            User Bio  \n",
       "0  #TrueToAtlanta...ATL Braves 21 🏆 ATLUTD⭐️ ...2...  \n",
       "1  I'm a nerdy guy who loves art, music, wrestlin...  \n",
       "2  Professionally employed as a machinist manufac...  \n",
       "3  Wear a mask, understanding facts vs lies, be p...  \n",
       "4  No worries Lil Ms Sunshine cause I don't mess ...  "
      ]
     },
     "execution_count": 161,
     "metadata": {},
     "output_type": "execute_result"
    }
   ],
   "source": [
    "#Reading the data file\n",
    "df = pd.read_csv('Twitter Stream Data - TweetStream.csv', nrows = 5000)\n",
    "print(df.shape)\n",
    "df.head()"
   ]
  },
  {
   "cell_type": "code",
   "execution_count": 162,
   "id": "10da13df",
   "metadata": {},
   "outputs": [
    {
     "data": {
      "text/plain": [
       "Index(['Tweet ID', 'User ID', 'Tweet Text', 'Username', 'User Handle',\n",
       "       'User Location', 'User Bio'],\n",
       "      dtype='object')"
      ]
     },
     "execution_count": 162,
     "metadata": {},
     "output_type": "execute_result"
    }
   ],
   "source": [
    "df.columns"
   ]
  },
  {
   "cell_type": "code",
   "execution_count": 163,
   "id": "d386290c",
   "metadata": {},
   "outputs": [],
   "source": [
    "##Saving copy of original dataset\n",
    "df_2 = df.copy()"
   ]
  },
  {
   "cell_type": "code",
   "execution_count": 164,
   "id": "9ea8591e",
   "metadata": {},
   "outputs": [],
   "source": [
    "# drop all those rows which \n",
    "# have any 'nan' value in it\n",
    "\n",
    "df.dropna(inplace = True)"
   ]
  },
  {
   "cell_type": "code",
   "execution_count": 165,
   "id": "f91c1e0a",
   "metadata": {},
   "outputs": [],
   "source": [
    "#dropping columns\n",
    "df=df.drop(columns = ['Tweet ID', 'Tweet Text', 'Username', 'User Handle'])"
   ]
  },
  {
   "cell_type": "code",
   "execution_count": 166,
   "id": "99c359ed",
   "metadata": {},
   "outputs": [
    {
     "data": {
      "text/plain": [
       "Index(['User ID', 'User Location', 'User Bio'], dtype='object')"
      ]
     },
     "execution_count": 166,
     "metadata": {},
     "output_type": "execute_result"
    }
   ],
   "source": [
    "df.columns"
   ]
  },
  {
   "cell_type": "code",
   "execution_count": 167,
   "id": "0f2fed89",
   "metadata": {},
   "outputs": [
    {
     "data": {
      "text/plain": [
       "Index(['user_id', 'user_location', 'user_bio'], dtype='object')"
      ]
     },
     "execution_count": 167,
     "metadata": {},
     "output_type": "execute_result"
    }
   ],
   "source": [
    "##Renaming columns\n",
    "\n",
    "columns_dict = {'User ID': 'user_id',\n",
    "                'User Bio': 'user_bio',\n",
    "                'User Location': 'user_location'\n",
    "                }\n",
    "\n",
    "df = df.rename(columns= columns_dict)\n",
    "df.columns"
   ]
  },
  {
   "cell_type": "code",
   "execution_count": 168,
   "id": "c4a156b0",
   "metadata": {},
   "outputs": [
    {
     "data": {
      "text/html": [
       "<div>\n",
       "<style scoped>\n",
       "    .dataframe tbody tr th:only-of-type {\n",
       "        vertical-align: middle;\n",
       "    }\n",
       "\n",
       "    .dataframe tbody tr th {\n",
       "        vertical-align: top;\n",
       "    }\n",
       "\n",
       "    .dataframe thead th {\n",
       "        text-align: right;\n",
       "    }\n",
       "</style>\n",
       "<table border=\"1\" class=\"dataframe\">\n",
       "  <thead>\n",
       "    <tr style=\"text-align: right;\">\n",
       "      <th></th>\n",
       "      <th>user_id</th>\n",
       "      <th>user_location</th>\n",
       "      <th>user_bio</th>\n",
       "    </tr>\n",
       "  </thead>\n",
       "  <tbody>\n",
       "    <tr>\n",
       "      <th>0</th>\n",
       "      <td>3.436262e+08</td>\n",
       "      <td>USA</td>\n",
       "      <td>#TrueToAtlanta...ATL Braves 21 🏆 ATLUTD⭐️ ...2...</td>\n",
       "    </tr>\n",
       "    <tr>\n",
       "      <th>1</th>\n",
       "      <td>1.184615e+18</td>\n",
       "      <td>Cleveland, OH</td>\n",
       "      <td>I'm a nerdy guy who loves art, music, wrestlin...</td>\n",
       "    </tr>\n",
       "    <tr>\n",
       "      <th>4</th>\n",
       "      <td>1.439624e+18</td>\n",
       "      <td>Harrisburg Pa</td>\n",
       "      <td>No worries Lil Ms Sunshine cause I don't mess ...</td>\n",
       "    </tr>\n",
       "    <tr>\n",
       "      <th>5</th>\n",
       "      <td>3.169218e+09</td>\n",
       "      <td>Houston, TX, USA, The Ghetto</td>\n",
       "      <td>Fuck yo feelings!\\nFollow me please, I follow ...</td>\n",
       "    </tr>\n",
       "    <tr>\n",
       "      <th>6</th>\n",
       "      <td>1.219720e+08</td>\n",
       "      <td>Denver, CO</td>\n",
       "      <td>I am a huge sports and music fan. I graduated ...</td>\n",
       "    </tr>\n",
       "    <tr>\n",
       "      <th>...</th>\n",
       "      <td>...</td>\n",
       "      <td>...</td>\n",
       "      <td>...</td>\n",
       "    </tr>\n",
       "    <tr>\n",
       "      <th>4995</th>\n",
       "      <td>1.448733e+18</td>\n",
       "      <td>Albuquerque, NM</td>\n",
       "      <td>Albuquerques Kanye mood swangs and all</td>\n",
       "    </tr>\n",
       "    <tr>\n",
       "      <th>4996</th>\n",
       "      <td>1.239159e+09</td>\n",
       "      <td>Glendora, CA</td>\n",
       "      <td>Melissa 💞</td>\n",
       "    </tr>\n",
       "    <tr>\n",
       "      <th>4997</th>\n",
       "      <td>2.432869e+08</td>\n",
       "      <td>Tucson, AZ</td>\n",
       "      <td>Enjoy the practical wisdom of daily life. Prom...</td>\n",
       "    </tr>\n",
       "    <tr>\n",
       "      <th>4998</th>\n",
       "      <td>1.213525e+18</td>\n",
       "      <td>Toronto, ON</td>\n",
       "      <td>ENERGY HEALER. Insta: http://bit.ly/VIGOUROSO,...</td>\n",
       "    </tr>\n",
       "    <tr>\n",
       "      <th>4999</th>\n",
       "      <td>2.159799e+09</td>\n",
       "      <td>Kansas City</td>\n",
       "      <td>glass half full</td>\n",
       "    </tr>\n",
       "  </tbody>\n",
       "</table>\n",
       "<p>4119 rows × 3 columns</p>\n",
       "</div>"
      ],
      "text/plain": [
       "           user_id                 user_location  \\\n",
       "0     3.436262e+08                           USA   \n",
       "1     1.184615e+18                 Cleveland, OH   \n",
       "4     1.439624e+18                 Harrisburg Pa   \n",
       "5     3.169218e+09  Houston, TX, USA, The Ghetto   \n",
       "6     1.219720e+08                    Denver, CO   \n",
       "...            ...                           ...   \n",
       "4995  1.448733e+18               Albuquerque, NM   \n",
       "4996  1.239159e+09                  Glendora, CA   \n",
       "4997  2.432869e+08                    Tucson, AZ   \n",
       "4998  1.213525e+18                   Toronto, ON   \n",
       "4999  2.159799e+09                   Kansas City   \n",
       "\n",
       "                                               user_bio  \n",
       "0     #TrueToAtlanta...ATL Braves 21 🏆 ATLUTD⭐️ ...2...  \n",
       "1     I'm a nerdy guy who loves art, music, wrestlin...  \n",
       "4     No worries Lil Ms Sunshine cause I don't mess ...  \n",
       "5     Fuck yo feelings!\\nFollow me please, I follow ...  \n",
       "6     I am a huge sports and music fan. I graduated ...  \n",
       "...                                                 ...  \n",
       "4995             Albuquerques Kanye mood swangs and all  \n",
       "4996                                          Melissa 💞  \n",
       "4997  Enjoy the practical wisdom of daily life. Prom...  \n",
       "4998  ENERGY HEALER. Insta: http://bit.ly/VIGOUROSO,...  \n",
       "4999                                    glass half full  \n",
       "\n",
       "[4119 rows x 3 columns]"
      ]
     },
     "execution_count": 168,
     "metadata": {},
     "output_type": "execute_result"
    }
   ],
   "source": [
    "df"
   ]
  },
  {
   "cell_type": "code",
   "execution_count": 169,
   "id": "e8888157",
   "metadata": {},
   "outputs": [
    {
     "data": {
      "text/plain": [
       "user_id          float64\n",
       "user_location     object\n",
       "user_bio          object\n",
       "dtype: object"
      ]
     },
     "execution_count": 169,
     "metadata": {},
     "output_type": "execute_result"
    }
   ],
   "source": [
    "df.dtypes"
   ]
  },
  {
   "cell_type": "code",
   "execution_count": null,
   "id": "99f4cc8f",
   "metadata": {},
   "outputs": [],
   "source": []
  },
  {
   "cell_type": "code",
   "execution_count": 170,
   "id": "6540c7d3",
   "metadata": {},
   "outputs": [],
   "source": [
    "df.to_csv('twitter_partial_cleaning.csv', index = False, encoding = 'utf-8')\n",
    "df.to_excel('twitter_partial_cleaning.xlsx', index = False)"
   ]
  },
  {
   "cell_type": "code",
   "execution_count": null,
   "id": "9fcd4524",
   "metadata": {},
   "outputs": [],
   "source": []
  }
 ],
 "metadata": {
  "kernelspec": {
   "display_name": "Python 3",
   "language": "python",
   "name": "python3"
  },
  "language_info": {
   "codemirror_mode": {
    "name": "ipython",
    "version": 3
   },
   "file_extension": ".py",
   "mimetype": "text/x-python",
   "name": "python",
   "nbconvert_exporter": "python",
   "pygments_lexer": "ipython3",
   "version": "3.8.8"
  }
 },
 "nbformat": 4,
 "nbformat_minor": 5
}
